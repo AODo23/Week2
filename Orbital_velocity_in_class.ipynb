{
  "nbformat": 4,
  "nbformat_minor": 0,
  "metadata": {
    "colab": {
      "provenance": [],
      "authorship_tag": "ABX9TyNbedoFvC7n4nyEMNJUJ2Ng",
      "include_colab_link": true
    },
    "kernelspec": {
      "name": "python3",
      "display_name": "Python 3"
    },
    "language_info": {
      "name": "python"
    }
  },
  "cells": [
    {
      "cell_type": "markdown",
      "metadata": {
        "id": "view-in-github",
        "colab_type": "text"
      },
      "source": [
        "<a href=\"https://colab.research.google.com/github/AODo23/Week2/blob/main/Orbital_velocity_in_class.ipynb\" target=\"_parent\"><img src=\"https://colab.research.google.com/assets/colab-badge.svg\" alt=\"Open In Colab\"/></a>"
      ]
    },
    {
      "cell_type": "code",
      "execution_count": null,
      "metadata": {
        "id": "2ydG1fF9XTkh"
      },
      "outputs": [],
      "source": [
        "import numpy as np #this allows us to import the system we will need to run our calculations"
      ]
    },
    {
      "cell_type": "code",
      "source": [
        "import astropy.units as u #these codes import the astronomical contants so our calculations are precise\n",
        "import astropy.constants as ac"
      ],
      "metadata": {
        "id": "vdc5p1bGXahd"
      },
      "execution_count": null,
      "outputs": []
    },
    {
      "cell_type": "code",
      "source": [
        "ac.G.si"
      ],
      "metadata": {
        "colab": {
          "base_uri": "https://localhost:8080/",
          "height": 42
        },
        "id": "0wpdz19WXddj",
        "outputId": "b18a20bc-bfd8-4acd-ffb3-e8c3d736f19d"
      },
      "execution_count": null,
      "outputs": [
        {
          "output_type": "execute_result",
          "data": {
            "text/plain": [
              "<<class 'astropy.constants.codata2018.CODATA2018'> name='Gravitational constant' value=6.6743e-11 uncertainty=1.5e-15 unit='m3 / (kg s2)' reference='CODATA 2018'>"
            ],
            "text/latex": "$6.6743 \\times 10^{-11} \\; \\mathrm{\\frac{m^{3}}{kg\\,s^{2}}}$"
          },
          "metadata": {},
          "execution_count": 8
        }
      ]
    },
    {
      "cell_type": "markdown",
      "source": [
        "$v_{orbital} = \\sqrt{\\frac{GM_\\odot}{r}}$\n"
      ],
      "metadata": {
        "id": "woV9tXRtYknF"
      }
    },
    {
      "cell_type": "code",
      "source": [
        "v_orbital = np.sqrt(ac.G * u.solMass / u.au) #here we are calculating the"
      ],
      "metadata": {
        "id": "DmGgjU9tYvI5"
      },
      "execution_count": null,
      "outputs": []
    },
    {
      "cell_type": "code",
      "source": [
        "print(v_orbital.si, v_orbital.to(u.km / u.s), v_orbital.to(ac.c))"
      ],
      "metadata": {
        "colab": {
          "base_uri": "https://localhost:8080/"
        },
        "id": "V12RoTRjZFda",
        "outputId": "094c57c4-44fd-4c60-9dfe-cef656795ac4"
      },
      "execution_count": null,
      "outputs": [
        {
          "output_type": "stream",
          "name": "stdout",
          "text": [
            "29784.691829676933 m / s 29.784691829676934 km / s 9.935103780921979e-05 2.99792e+08 m / s\n"
          ]
        }
      ]
    },
    {
      "cell_type": "code",
      "source": [
        "v_cannonball = np.sqrt(ac.G * u.earthMass / u.earthRad) #here we are prompted to calculate how fast a cannonball would need to travel to not fall back down to earth"
      ],
      "metadata": {
        "id": "QkeN8TnsatQp"
      },
      "execution_count": null,
      "outputs": []
    },
    {
      "cell_type": "code",
      "source": [
        "print(v_cannonball.si)"
      ],
      "metadata": {
        "colab": {
          "base_uri": "https://localhost:8080/"
        },
        "id": "mN8H4Z0Ybj6z",
        "outputId": "b97deccb-e5d7-4563-cf37-6aeca8ac1b57"
      },
      "execution_count": null,
      "outputs": [
        {
          "output_type": "stream",
          "name": "stdout",
          "text": [
            "7905.388234385281 m / s\n"
          ]
        }
      ]
    },
    {
      "cell_type": "code",
      "source": [
        "radius_bh = (ac.G * u.solMass / (ac.c**2)) #Here we are calculating the distance of a black hole radius"
      ],
      "metadata": {
        "id": "Gw3UZvpDb9zg"
      },
      "execution_count": null,
      "outputs": []
    },
    {
      "cell_type": "code",
      "source": [
        "print(radius_bh.si)"
      ],
      "metadata": {
        "colab": {
          "base_uri": "https://localhost:8080/"
        },
        "id": "xcxrRAfjcjYP",
        "outputId": "de9f2acc-4701-4fbe-ad8d-cef77fdbc1e8"
      },
      "execution_count": null,
      "outputs": [
        {
          "output_type": "stream",
          "name": "stdout",
          "text": [
            "1476.6250380501249 m\n"
          ]
        }
      ]
    }
  ]
}