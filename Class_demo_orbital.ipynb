{
  "nbformat": 4,
  "nbformat_minor": 0,
  "metadata": {
    "colab": {
      "provenance": []
    },
    "kernelspec": {
      "name": "python3",
      "display_name": "Python 3"
    },
    "language_info": {
      "name": "python"
    }
  },
  "cells": [
    {
      "cell_type": "code",
      "execution_count": null,
      "metadata": {
        "id": "JCUntDti5HP2"
      },
      "outputs": [],
      "source": [
        "import numpy as np #here we are importing the constants and system we need to run our calculations and make them easier\n",
        "import astropy.units as u\n",
        "import astropy.constants as ac\n",
        "import matplotlib.pyplot as plt"
      ]
    },
    {
      "cell_type": "code",
      "source": [
        "from google.colab import files #this code and the code below are importing a specific data file for us to base our program off of"
      ],
      "metadata": {
        "id": "RiteI1GW516A"
      },
      "execution_count": null,
      "outputs": []
    },
    {
      "cell_type": "code",
      "source": [
        "upload = files.upload()"
      ],
      "metadata": {
        "colab": {
          "base_uri": "https://localhost:8080/",
          "height": 73
        },
        "id": "w1comOnS6JaO",
        "outputId": "6c9e0c43-ab0a-4491-e2a5-3d168bb62648"
      },
      "execution_count": null,
      "outputs": [
        {
          "output_type": "display_data",
          "data": {
            "text/plain": [
              "<IPython.core.display.HTML object>"
            ],
            "text/html": [
              "\n",
              "     <input type=\"file\" id=\"files-ba5e7c4d-ec38-45c2-a996-78a6b97f4cec\" name=\"files[]\" multiple disabled\n",
              "        style=\"border:none\" />\n",
              "     <output id=\"result-ba5e7c4d-ec38-45c2-a996-78a6b97f4cec\">\n",
              "      Upload widget is only available when the cell has been executed in the\n",
              "      current browser session. Please rerun this cell to enable.\n",
              "      </output>\n",
              "      <script>// Copyright 2017 Google LLC\n",
              "//\n",
              "// Licensed under the Apache License, Version 2.0 (the \"License\");\n",
              "// you may not use this file except in compliance with the License.\n",
              "// You may obtain a copy of the License at\n",
              "//\n",
              "//      http://www.apache.org/licenses/LICENSE-2.0\n",
              "//\n",
              "// Unless required by applicable law or agreed to in writing, software\n",
              "// distributed under the License is distributed on an \"AS IS\" BASIS,\n",
              "// WITHOUT WARRANTIES OR CONDITIONS OF ANY KIND, either express or implied.\n",
              "// See the License for the specific language governing permissions and\n",
              "// limitations under the License.\n",
              "\n",
              "/**\n",
              " * @fileoverview Helpers for google.colab Python module.\n",
              " */\n",
              "(function(scope) {\n",
              "function span(text, styleAttributes = {}) {\n",
              "  const element = document.createElement('span');\n",
              "  element.textContent = text;\n",
              "  for (const key of Object.keys(styleAttributes)) {\n",
              "    element.style[key] = styleAttributes[key];\n",
              "  }\n",
              "  return element;\n",
              "}\n",
              "\n",
              "// Max number of bytes which will be uploaded at a time.\n",
              "const MAX_PAYLOAD_SIZE = 100 * 1024;\n",
              "\n",
              "function _uploadFiles(inputId, outputId) {\n",
              "  const steps = uploadFilesStep(inputId, outputId);\n",
              "  const outputElement = document.getElementById(outputId);\n",
              "  // Cache steps on the outputElement to make it available for the next call\n",
              "  // to uploadFilesContinue from Python.\n",
              "  outputElement.steps = steps;\n",
              "\n",
              "  return _uploadFilesContinue(outputId);\n",
              "}\n",
              "\n",
              "// This is roughly an async generator (not supported in the browser yet),\n",
              "// where there are multiple asynchronous steps and the Python side is going\n",
              "// to poll for completion of each step.\n",
              "// This uses a Promise to block the python side on completion of each step,\n",
              "// then passes the result of the previous step as the input to the next step.\n",
              "function _uploadFilesContinue(outputId) {\n",
              "  const outputElement = document.getElementById(outputId);\n",
              "  const steps = outputElement.steps;\n",
              "\n",
              "  const next = steps.next(outputElement.lastPromiseValue);\n",
              "  return Promise.resolve(next.value.promise).then((value) => {\n",
              "    // Cache the last promise value to make it available to the next\n",
              "    // step of the generator.\n",
              "    outputElement.lastPromiseValue = value;\n",
              "    return next.value.response;\n",
              "  });\n",
              "}\n",
              "\n",
              "/**\n",
              " * Generator function which is called between each async step of the upload\n",
              " * process.\n",
              " * @param {string} inputId Element ID of the input file picker element.\n",
              " * @param {string} outputId Element ID of the output display.\n",
              " * @return {!Iterable<!Object>} Iterable of next steps.\n",
              " */\n",
              "function* uploadFilesStep(inputId, outputId) {\n",
              "  const inputElement = document.getElementById(inputId);\n",
              "  inputElement.disabled = false;\n",
              "\n",
              "  const outputElement = document.getElementById(outputId);\n",
              "  outputElement.innerHTML = '';\n",
              "\n",
              "  const pickedPromise = new Promise((resolve) => {\n",
              "    inputElement.addEventListener('change', (e) => {\n",
              "      resolve(e.target.files);\n",
              "    });\n",
              "  });\n",
              "\n",
              "  const cancel = document.createElement('button');\n",
              "  inputElement.parentElement.appendChild(cancel);\n",
              "  cancel.textContent = 'Cancel upload';\n",
              "  const cancelPromise = new Promise((resolve) => {\n",
              "    cancel.onclick = () => {\n",
              "      resolve(null);\n",
              "    };\n",
              "  });\n",
              "\n",
              "  // Wait for the user to pick the files.\n",
              "  const files = yield {\n",
              "    promise: Promise.race([pickedPromise, cancelPromise]),\n",
              "    response: {\n",
              "      action: 'starting',\n",
              "    }\n",
              "  };\n",
              "\n",
              "  cancel.remove();\n",
              "\n",
              "  // Disable the input element since further picks are not allowed.\n",
              "  inputElement.disabled = true;\n",
              "\n",
              "  if (!files) {\n",
              "    return {\n",
              "      response: {\n",
              "        action: 'complete',\n",
              "      }\n",
              "    };\n",
              "  }\n",
              "\n",
              "  for (const file of files) {\n",
              "    const li = document.createElement('li');\n",
              "    li.append(span(file.name, {fontWeight: 'bold'}));\n",
              "    li.append(span(\n",
              "        `(${file.type || 'n/a'}) - ${file.size} bytes, ` +\n",
              "        `last modified: ${\n",
              "            file.lastModifiedDate ? file.lastModifiedDate.toLocaleDateString() :\n",
              "                                    'n/a'} - `));\n",
              "    const percent = span('0% done');\n",
              "    li.appendChild(percent);\n",
              "\n",
              "    outputElement.appendChild(li);\n",
              "\n",
              "    const fileDataPromise = new Promise((resolve) => {\n",
              "      const reader = new FileReader();\n",
              "      reader.onload = (e) => {\n",
              "        resolve(e.target.result);\n",
              "      };\n",
              "      reader.readAsArrayBuffer(file);\n",
              "    });\n",
              "    // Wait for the data to be ready.\n",
              "    let fileData = yield {\n",
              "      promise: fileDataPromise,\n",
              "      response: {\n",
              "        action: 'continue',\n",
              "      }\n",
              "    };\n",
              "\n",
              "    // Use a chunked sending to avoid message size limits. See b/62115660.\n",
              "    let position = 0;\n",
              "    do {\n",
              "      const length = Math.min(fileData.byteLength - position, MAX_PAYLOAD_SIZE);\n",
              "      const chunk = new Uint8Array(fileData, position, length);\n",
              "      position += length;\n",
              "\n",
              "      const base64 = btoa(String.fromCharCode.apply(null, chunk));\n",
              "      yield {\n",
              "        response: {\n",
              "          action: 'append',\n",
              "          file: file.name,\n",
              "          data: base64,\n",
              "        },\n",
              "      };\n",
              "\n",
              "      let percentDone = fileData.byteLength === 0 ?\n",
              "          100 :\n",
              "          Math.round((position / fileData.byteLength) * 100);\n",
              "      percent.textContent = `${percentDone}% done`;\n",
              "\n",
              "    } while (position < fileData.byteLength);\n",
              "  }\n",
              "\n",
              "  // All done.\n",
              "  yield {\n",
              "    response: {\n",
              "      action: 'complete',\n",
              "    }\n",
              "  };\n",
              "}\n",
              "\n",
              "scope.google = scope.google || {};\n",
              "scope.google.colab = scope.google.colab || {};\n",
              "scope.google.colab._files = {\n",
              "  _uploadFiles,\n",
              "  _uploadFilesContinue,\n",
              "};\n",
              "})(self);\n",
              "</script> "
            ]
          },
          "metadata": {}
        },
        {
          "output_type": "stream",
          "name": "stdout",
          "text": [
            "Saving galaxy_rotation_2006.txt to galaxy_rotation_2006.txt\n"
          ]
        }
      ]
    },
    {
      "cell_type": "code",
      "source": [
        "import astropy.io.ascii #Here we are importing another program to help with our calculations"
      ],
      "metadata": {
        "id": "nEZQCN046gV-"
      },
      "execution_count": null,
      "outputs": []
    },
    {
      "cell_type": "code",
      "source": [
        "tab = astropy.io.ascii.read(\"galaxy_rotation_2006.txt\") #The code is now reading the file we uploaded earlier"
      ],
      "metadata": {
        "id": "KA74Ef647HcC"
      },
      "execution_count": null,
      "outputs": []
    },
    {
      "cell_type": "code",
      "source": [
        "dis = tab[\"col2\"] #Here, we set distance equal to the values in column 2, velocity to column 3\n",
        "vel = tab[\"col3\"]\n",
        "plt.plot(dis, vel)\n",
        "plt.xlabel(\"Distance [Kpc]\") # Taken the values above, we plot them as functions of distance and velocity over each other\n",
        "plt.ylabel(\"Velocity [km/s]\")\n",
        "plt.ylim(0, 300)"
      ],
      "metadata": {
        "colab": {
          "base_uri": "https://localhost:8080/",
          "height": 472
        },
        "id": "dmwa3Ku07mK0",
        "outputId": "8eb04f41-e8dc-4627-f159-20ca4682746c"
      },
      "execution_count": null,
      "outputs": [
        {
          "output_type": "execute_result",
          "data": {
            "text/plain": [
              "(0.0, 300.0)"
            ]
          },
          "metadata": {},
          "execution_count": 23
        },
        {
          "output_type": "display_data",
          "data": {
            "text/plain": [
              "<Figure size 640x480 with 1 Axes>"
            ],
            "image/png": "[encoded data removed]"
          },
          "metadata": {}
        }
      ]
    },
    {
      "cell_type": "code",
      "source": [
        "print(dis) #Here is the printed value for distance"
      ],
      "metadata": {
        "colab": {
          "base_uri": "https://localhost:8080/"
        },
        "id": "uT6l95DL9usw",
        "outputId": "9c07e265-a1ab-4d0e-bf3a-7fbb2f1b843a"
      },
      "execution_count": null,
      "outputs": [
        {
          "output_type": "stream",
          "name": "stdout",
          "text": [
            " col2\n",
            "-----\n",
            " 5.68\n",
            " 6.81\n",
            " 7.95\n",
            " 9.08\n",
            "10.22\n",
            "11.35\n",
            "12.49\n",
            "13.62\n",
            "14.76\n",
            "15.89\n",
            "  ...\n",
            "24.52\n",
            "25.54\n",
            "26.56\n",
            "27.58\n",
            " 28.6\n",
            "29.62\n",
            "30.65\n",
            "31.67\n",
            "32.69\n",
            "33.71\n",
            "34.73\n",
            "Length = 28 rows\n"
          ]
        }
      ]
    },
    {
      "cell_type": "code",
      "source": [
        "def calculate_orbital_velocity(mass, radius):\n",
        "  return(np.sqrt(ac.G * mass / radius))"
      ],
      "metadata": {
        "id": "bDfdIelq96y8"
      },
      "execution_count": null,
      "outputs": []
    },
    {
      "cell_type": "code",
      "source": [
        "mass = 1 * u.earthMass #we are basically switching the variables for mass and radius here, in terms of Earth\n",
        "radius = 1 * u.earthRad\n",
        "orb_vel = calculate_orbital_velocity(mass, radius)\n",
        "print(orb_vel.to(u.km / u.s))"
      ],
      "metadata": {
        "colab": {
          "base_uri": "https://localhost:8080/"
        },
        "id": "Xz4783io-ci3",
        "outputId": "ccd22abd-ba31-4db2-864a-d1fc9c719d38"
      },
      "execution_count": null,
      "outputs": [
        {
          "output_type": "stream",
          "name": "stdout",
          "text": [
            "7.905388234385281 km / s\n"
          ]
        }
      ]
    },
    {
      "cell_type": "code",
      "source": [
        "mass = 3e7 * u.solMass #We are doing the same thing here but with solar constants to find the solar velocity\n",
        "radius = 5.68 * 1000 * u.parsec\n",
        "calculate_orbital_velocity(mass, radius)\n",
        "print(orb_vel.to(u.km / u.s))"
      ],
      "metadata": {
        "colab": {
          "base_uri": "https://localhost:8080/"
        },
        "id": "alHzf31K_IhI",
        "outputId": "32454902-cab5-481b-e73f-f462504e5e99"
      },
      "execution_count": null,
      "outputs": [
        {
          "output_type": "stream",
          "name": "stdout",
          "text": [
            "7.905388234385281 km / s\n"
          ]
        }
      ]
    },
    {
      "cell_type": "code",
      "source": [
        "vel_bh = np.zeros(np.shape(dis)) * u.km / u.s # here we are creating a program that defines both orbital velocity and kpc for the values we calculated above\n",
        "\n",
        "for i, radius in enumerate(dis):\n",
        "  rad = radius * 1000 *u.parsec\n",
        "  orb_vel = calculate_orbital_velocity(mass, rad)\n",
        "  vel_bh[i] = orb_vel\n",
        "  print(\"The orbital velocity at \", radius, \"kpc =\", orb_vel.to(u.km / u.s))"
      ],
      "metadata": {
        "colab": {
          "base_uri": "https://localhost:8080/"
        },
        "id": "ysduGwQd_n5m",
        "outputId": "bf5e13f8-60e5-4868-8cf4-c3a003708073"
      },
      "execution_count": null,
      "outputs": [
        {
          "output_type": "stream",
          "name": "stdout",
          "text": [
            "The orbital velocity at  5.68 kpc = 4.766142291386287 km / s\n",
            "The orbital velocity at  6.81 kpc = 4.352789004155528 km / s\n",
            "The orbital velocity at  7.95 kpc = 4.028632086788635 km / s\n",
            "The orbital velocity at  9.08 kpc = 3.7696258549122557 km / s\n",
            "The orbital velocity at  10.22 kpc = 3.5531678501224344 km / s\n",
            "The orbital velocity at  11.35 kpc = 3.3716558645298256 km / s\n",
            "The orbital velocity at  12.49 kpc = 3.214104201911268 km / s\n",
            "The orbital velocity at  13.62 kpc = 3.077886621912613 km / s\n",
            "The orbital velocity at  14.76 kpc = 2.956636901678396 km / s\n",
            "The orbital velocity at  15.89 kpc = 2.8495692993877366 km / s\n",
            "The orbital velocity at  17.03 kpc = 2.7525413240352865 km / s\n",
            "The orbital velocity at  18.16 kpc = 2.6655280045445924 km / s\n",
            "The orbital velocity at  19.3 kpc = 2.585607014258112 km / s\n",
            "The orbital velocity at  20.43 kpc = 2.513083903274837 km / s\n",
            "The orbital velocity at  21.45 kpc = 2.4526045154369367 km / s\n",
            "The orbital velocity at  22.47 kpc = 2.396291435442096 km / s\n",
            "The orbital velocity at  23.5 kpc = 2.3431885722563384 km / s\n",
            "The orbital velocity at  24.52 kpc = 2.2939341077958164 km / s\n",
            "The orbital velocity at  25.54 kpc = 2.2476605613970118 km / s\n",
            "The orbital velocity at  26.56 kpc = 2.2040788969377942 km / s\n",
            "The orbital velocity at  27.58 kpc = 2.16293785132581 km / s\n",
            "The orbital velocity at  28.6 kpc = 2.1240178158048106 km / s\n",
            "The orbital velocity at  29.62 kpc = 2.0871258866233693 km / s\n",
            "The orbital velocity at  30.65 kpc = 2.0517570403747105 km / s\n",
            "The orbital velocity at  31.67 kpc = 2.018446023057773 km / s\n",
            "The orbital velocity at  32.69 kpc = 1.986706494439242 km / s\n",
            "The orbital velocity at  33.71 kpc = 1.9564186559412566 km / s\n",
            "The orbital velocity at  34.73 kpc = 1.9274751166742614 km / s\n"
          ]
        }
      ]
    },
    {
      "cell_type": "code",
      "source": [
        "dis = tab[\"col2\"] # Here we are laying out in a plot again but with our new vales comparing black holes to the known universe\n",
        "vel = tab[\"col3\"]\n",
        "plt.plot(dis, vel, color = \"black\", label = \"data\")\n",
        "plt.plot(dis, vel_bh.value)\n",
        "plt.xlabel(\"Distance [Kpc]\")\n",
        "plt.ylabel(\"Velocity [km/s]\")\n",
        "plt.ylim(0, 300)"
      ],
      "metadata": {
        "colab": {
          "base_uri": "https://localhost:8080/",
          "height": 472
        },
        "outputId": "07343d7c-9d83-4b46-f506-62b86213628e",
        "id": "RcoJu_07CuCg"
      },
      "execution_count": null,
      "outputs": [
        {
          "output_type": "execute_result",
          "data": {
            "text/plain": [
              "(0.0, 300.0)"
            ]
          },
          "metadata": {},
          "execution_count": 47
        },
        {
          "output_type": "display_data",
          "data": {
            "text/plain": [
              "<Figure size 640x480 with 1 Axes>"
            ],
            "image/png": "[encoded data removed]"
          },
          "metadata": {}
        }
      ]
    },
    {
      "cell_type": "code",
      "source": [],
      "metadata": {
        "id": "ILiLOgCgEpkP"
      },
      "execution_count": null,
      "outputs": []
    }
  ]
}